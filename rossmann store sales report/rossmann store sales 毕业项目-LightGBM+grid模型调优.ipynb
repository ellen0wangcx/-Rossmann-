{
 "cells": [
  {
   "cell_type": "code",
   "execution_count": 1,
   "metadata": {},
   "outputs": [
    {
     "name": "stderr",
     "output_type": "stream",
     "text": [
      "/Users/88michael/anaconda3/lib/python3.5/site-packages/sklearn/cross_validation.py:41: DeprecationWarning: This module was deprecated in version 0.18 in favor of the model_selection module into which all the refactored classes and functions are moved. Also note that the interface of the new CV iterators are different from that of this module. This module will be removed in 0.20.\n",
      "  \"This module will be removed in 0.20.\", DeprecationWarning)\n"
     ]
    }
   ],
   "source": [
    "import numpy as np\n",
    "import pandas as pd\n",
    "from pandas import DataFrame\n",
    "from pandas import datetime\n",
    "#数据可视化库\n",
    "from matplotlib import pylab as plt\n",
    "import seaborn as sns\n",
    "import datetime\n",
    "import time\n",
    "from sklearn.cross_validation import train_test_split\n",
    "from sklearn import cross_validation"
   ]
  },
  {
   "cell_type": "code",
   "execution_count": 2,
   "metadata": {},
   "outputs": [],
   "source": [
    "from sklearn.metrics import roc_curve, auc\n",
    "from sklearn.ensemble import RandomForestClassifier\n",
    "import pickle\n",
    "from sklearn.linear_model import LogisticRegression"
   ]
  },
  {
   "cell_type": "code",
   "execution_count": 3,
   "metadata": {},
   "outputs": [],
   "source": [
    "#随机森林\n",
    "from sklearn.linear_model import LinearRegression\n",
    "from sklearn.ensemble import RandomForestRegressor\n",
    "from sklearn.model_selection import GridSearchCV"
   ]
  },
  {
   "cell_type": "code",
   "execution_count": 4,
   "metadata": {},
   "outputs": [],
   "source": [
    "from sklearn.metrics import mean_squared_error\n",
    "from sklearn.metrics import r2_score\n",
    "from sklearn.metrics import median_absolute_error"
   ]
  },
  {
   "cell_type": "code",
   "execution_count": 5,
   "metadata": {},
   "outputs": [],
   "source": [
    "store=pd.read_csv(\"store.csv\",low_memory=False)\n",
    "#read_csv参数：parse_dates解析索引,index_col用作行索引的列编号，low_memory分块加载到内存，再低内存消耗中解析\n",
    "train=pd.read_csv(\"train.csv\",parse_dates=[2], low_memory=False)     #,index_col='Date')\n",
    "test=pd.read_csv('test.csv',parse_dates=[3],low_memory=False)\n"
   ]
  },
  {
   "cell_type": "code",
   "execution_count": 6,
   "metadata": {},
   "outputs": [],
   "source": [
    "store['CompetitionDistance'].fillna(store['CompetitionDistance'].median(), inplace=True)"
   ]
  },
  {
   "cell_type": "code",
   "execution_count": 7,
   "metadata": {},
   "outputs": [],
   "source": [
    "store.fillna(0,inplace=True)"
   ]
  },
  {
   "cell_type": "code",
   "execution_count": 8,
   "metadata": {},
   "outputs": [],
   "source": [
    "test.fillna(1,inplace=True)"
   ]
  },
  {
   "cell_type": "code",
   "execution_count": 9,
   "metadata": {},
   "outputs": [],
   "source": [
    "train=pd.merge(train, store, on='Store')\n",
    "test = pd.merge(test, store, on='Store')"
   ]
  },
  {
   "cell_type": "code",
   "execution_count": 10,
   "metadata": {},
   "outputs": [],
   "source": [
    "train=train[train[\"Open\"]!=0]\n",
    "train = train[train[\"Sales\"]>0]"
   ]
  },
  {
   "cell_type": "code",
   "execution_count": 11,
   "metadata": {},
   "outputs": [],
   "source": [
    "def features_create(data):\n",
    "    \n",
    "    \n",
    "    mappings = {'0':0, 'a':1, 'b':2, 'c':3, 'd':4}\n",
    "    data.StoreType.replace(mappings, inplace=True)\n",
    "    data.Assortment.replace(mappings, inplace=True)\n",
    "    data.StateHoliday.replace(mappings, inplace=True)\n",
    "    \n",
    "    \n",
    "    data['Year'] = data.Date.dt.year\n",
    "    data['Month'] = data.Date.dt.month\n",
    "    data['Day'] = data.Date.dt.day\n",
    "    data['DayOfWeek'] = data.Date.dt.dayofweek\n",
    "    data['WeekOfYear'] = data.Date.dt.weekofyear\n",
    "    \n",
    "    \n",
    "    \n",
    "    data['CompetitionOpen'] = 12 * (data.Year - data.CompetitionOpenSinceYear) +         (data.Month - data.CompetitionOpenSinceMonth)\n",
    "    data['PromoOpen'] = 12 * (data.Year - data.Promo2SinceYear) +         (data.WeekOfYear - data.Promo2SinceWeek) / 4.0\n",
    "    data['CompetitionOpen'] = data.CompetitionOpen.apply(lambda x: x if x > 0 else 0)        \n",
    "    data['PromoOpen'] = data.PromoOpen.apply(lambda x: x if x > 0 else 0)\n",
    "    \n",
    "    \n",
    "  \n",
    "    month2str = {1:'Jan', 2:'Feb', 3:'Mar', 4:'Apr', 5:'May', 6:'Jun', 7:'Jul', 8:'Aug', 9:'Sept', 10:'Oct', 11:'Nov', 12:'Dec'}\n",
    "    data['monthStr'] = data.Month.map(month2str)\n",
    "    data.loc[data.PromoInterval == 0, 'PromoInterval'] = ''\n",
    "    data['IsPromoMonth'] = 0\n",
    "    for interval in data.PromoInterval.unique():\n",
    "        if interval != '':\n",
    "            for month in interval.split(','):\n",
    "                data.loc[(data.monthStr == month) & (data.PromoInterval == interval), 'IsPromoMonth'] = 1\n",
    "\n",
    "    return data"
   ]
  },
  {
   "cell_type": "code",
   "execution_count": 12,
   "metadata": {},
   "outputs": [
    {
     "name": "stdout",
     "output_type": "stream",
     "text": [
      "Features creation finished\n"
     ]
    }
   ],
   "source": [
    "features_create(train)\n",
    "features_create(test)\n",
    "print('Features creation finished')"
   ]
  },
  {
   "cell_type": "code",
   "execution_count": 13,
   "metadata": {},
   "outputs": [],
   "source": [
    "train = train.sort_values(['Date'],ascending = False)\n",
    "valid = train[:6*7*1115]\n",
    "train = train[6*7*1115:]"
   ]
  },
  {
   "cell_type": "code",
   "execution_count": 14,
   "metadata": {},
   "outputs": [],
   "source": [
    "train.drop(['PromoInterval'],axis=1,inplace=True)\n",
    "test.drop(['PromoInterval'],axis=1,inplace=True)"
   ]
  },
  {
   "cell_type": "code",
   "execution_count": 15,
   "metadata": {},
   "outputs": [],
   "source": [
    "train.drop(['Date'],axis=1,inplace=True)\n",
    "test.drop(['Date'],axis=1,inplace=True)"
   ]
  },
  {
   "cell_type": "code",
   "execution_count": 16,
   "metadata": {},
   "outputs": [],
   "source": [
    "train.drop(['Customers'],axis=1,inplace=True)"
   ]
  },
  {
   "cell_type": "code",
   "execution_count": 17,
   "metadata": {},
   "outputs": [],
   "source": [
    "train.drop(['Open'],axis=1,inplace=True)\n",
    "test.drop(['Open'],axis=1,inplace=True)"
   ]
  },
  {
   "cell_type": "code",
   "execution_count": 18,
   "metadata": {},
   "outputs": [],
   "source": [
    "train.drop(['monthStr'],axis=1,inplace=True)\n",
    "test.drop(['monthStr'],axis=1,inplace=True)"
   ]
  },
  {
   "cell_type": "code",
   "execution_count": null,
   "metadata": {},
   "outputs": [],
   "source": [
    "#x_train, x_valid = cross_validation.train_test_split(train, test_size=0.2, random_state=42)"
   ]
  },
  {
   "cell_type": "code",
   "execution_count": 19,
   "metadata": {},
   "outputs": [],
   "source": [
    "x_train=train.drop(['Sales'],axis=1)\n",
    "x_valid=train.drop(['Sales'],axis=1)\n",
    "\n",
    "y_train=train['Sales']\n",
    "y_valid=train['Sales']\n",
    "\n",
    "x_test=test.drop(['Id'],axis=1,inplace=True)"
   ]
  },
  {
   "cell_type": "code",
   "execution_count": 22,
   "metadata": {},
   "outputs": [],
   "source": [
    "import lightgbm as lgb\n",
    "from sklearn.metrics import mean_squared_error"
   ]
  },
  {
   "cell_type": "code",
   "execution_count": 26,
   "metadata": {},
   "outputs": [
    {
     "name": "stdout",
     "output_type": "stream",
     "text": [
      "[1]\tvalid_0's l2: 9.35719e+06\tvalid_0's l1: 2256.82\n",
      "Training until validation scores don't improve for 5 rounds.\n",
      "[2]\tvalid_0's l2: 9.11155e+06\tvalid_0's l1: 2225.48\n",
      "[3]\tvalid_0's l2: 8.87948e+06\tvalid_0's l1: 2196.14\n",
      "[4]\tvalid_0's l2: 8.66829e+06\tvalid_0's l1: 2169.35\n",
      "[5]\tvalid_0's l2: 8.47542e+06\tvalid_0's l1: 2144.01\n",
      "[6]\tvalid_0's l2: 8.29923e+06\tvalid_0's l1: 2121.14\n",
      "[7]\tvalid_0's l2: 8.1386e+06\tvalid_0's l1: 2100.07\n",
      "[8]\tvalid_0's l2: 7.99521e+06\tvalid_0's l1: 2080.14\n",
      "[9]\tvalid_0's l2: 7.86131e+06\tvalid_0's l1: 2062.51\n",
      "[10]\tvalid_0's l2: 7.73839e+06\tvalid_0's l1: 2046.1\n",
      "[11]\tvalid_0's l2: 7.62139e+06\tvalid_0's l1: 2030.05\n",
      "[12]\tvalid_0's l2: 7.50813e+06\tvalid_0's l1: 2014.57\n",
      "[13]\tvalid_0's l2: 7.40611e+06\tvalid_0's l1: 2000.65\n",
      "[14]\tvalid_0's l2: 7.30282e+06\tvalid_0's l1: 1986.51\n",
      "[15]\tvalid_0's l2: 7.21457e+06\tvalid_0's l1: 1973.59\n",
      "[16]\tvalid_0's l2: 7.14112e+06\tvalid_0's l1: 1962.84\n",
      "[17]\tvalid_0's l2: 7.07052e+06\tvalid_0's l1: 1953.43\n",
      "[18]\tvalid_0's l2: 6.98795e+06\tvalid_0's l1: 1943.07\n",
      "[19]\tvalid_0's l2: 6.91954e+06\tvalid_0's l1: 1933.82\n",
      "[20]\tvalid_0's l2: 6.8623e+06\tvalid_0's l1: 1924.93\n",
      "Did not meet early stopping. Best iteration is:\n",
      "[20]\tvalid_0's l2: 6.8623e+06\tvalid_0's l1: 1924.93\n",
      "Start predicting...\n",
      "LGBMRegressor(boosting_type='gbdt', class_weight=None, colsample_bytree=1.0,\n",
      "       importance_type='split', learning_rate=0.05, max_depth=-1,\n",
      "       min_child_samples=20, min_child_weight=0.001, min_split_gain=0.0,\n",
      "       n_estimators=20, n_jobs=-1, num_leaves=31, objective='regression',\n",
      "       random_state=None, reg_alpha=0.0, reg_lambda=0.0, silent=True,\n",
      "       subsample=1.0, subsample_for_bin=200000, subsample_freq=0)\n",
      "Best Iteration: 20\n",
      "The rmse of prediction is: 2619.599333720327\n",
      "Feature importances: [76, 48, 20, 0, 6, 13, 45, 164, 21, 17, 0, 17, 58, 0, 15, 27, 42, 0, 31, 0]\n",
      "Mean Squared Error: 6862300.669227981\n",
      "R2 Error: 0.28767455606897685\n",
      "Median Absolute Error: 1548.2497688424978\n",
      "Mean: 1924.9281148229443\n",
      "Variance(sigma2): 3156952.421992214\n",
      "Sigma: 1776.7814784019486\n",
      "Training Score:0.287675\n",
      "Valid Score:0.287675\n"
     ]
    },
    {
     "data": {
      "image/png": "[encoded data removed]",
      "text/plain": [
       "<Figure size 1080x576 with 1 Axes>"
      ]
     },
     "metadata": {},
     "output_type": "display_data"
    },
    {
     "data": {
      "image/png": "[encoded data removed]",
      "text/plain": [
       "<Figure size 1080x576 with 1 Axes>"
      ]
     },
     "metadata": {},
     "output_type": "display_data"
    }
   ],
   "source": [
    "gbm=lgb.LGBMRegressor(objective='regression',num_leaves=31,learning_rate=0.05,n_estimators=20)\n",
    "gbm.fit(x_train,y_train,\n",
    "       eval_set=[(x_valid, y_valid)],\n",
    "        eval_metric='l1',\n",
    "        early_stopping_rounds=5)\n",
    "print('Start predicting...')\n",
    "print(gbm)\n",
    "num_iteration=gbm.best_iteration_\n",
    "y_pred=gbm.predict(x_valid,num_iteration=gbm.best_iteration_)\n",
    "print('Best Iteration:', num_iteration)\n",
    "print('The rmse of prediction is:', mean_squared_error(y_valid,y_pred)**0.5)\n",
    "print('Feature importances:', list(gbm.feature_importances_))\n",
    "\n",
    "features=gbm.feature_importances_\n",
    "features_list=x_train.columns.values\n",
    "feature_importance = DataFrame(list(reversed(sorted(zip(features, features_list)))))\n",
    "fig,ax=plt.subplots(1,1,figsize=(15,8))\n",
    "sns.barplot(x=0,y=1,color=\"salmon\",data=feature_importance,edgecolor=\"black\")\n",
    "plt.xlabel(\"Relative Feature Importance\")\n",
    "plt.ylabel(\"Features\")\n",
    "plt.title(\"Feature Importance\")\n",
    "\n",
    "\n",
    "\n",
    "mse = mean_squared_error(y_valid, y_pred)\n",
    "r2 = r2_score(y_valid, y_pred)\n",
    "mae = median_absolute_error(y_valid, y_pred)\n",
    "\n",
    "# Calculate the mean absolute error for all `y_v`\n",
    "pred_dist = abs((y_valid)-(y_pred))\n",
    "\n",
    "# Get the statistics on `pred_dist`\n",
    "mean = np.mean(pred_dist)\n",
    "variance = np.var(pred_dist)\n",
    "sigma = np.sqrt(variance)\n",
    "print(\"Mean Squared Error:\", mse)\n",
    "print(\"R2 Error:\", r2)\n",
    "print(\"Median Absolute Error:\", mae)\n",
    "print(\"Mean:\", mean)\n",
    "print(\"Variance(sigma2):\", variance)\n",
    "print(\"Sigma:\", sigma)\n",
    "\n",
    "# Plot the distribution of the mean absolute error\n",
    "fig, ax = plt.subplots(1, 1, figsize=(15,8))\n",
    "plt.hist(pred_dist, bins=1000)\n",
    "plt.xlim([0,3000])\n",
    "plt.xlabel(\"Absolute Error\")\n",
    "plt.ylabel(\"Count\")\n",
    "plt.title(\"Distribution of the Absolute Error\")\n",
    "\n",
    "print(\"Training Score:%f\" % gbm.score(x_train,y_train))\n",
    "print('Valid Score:%f' % gbm.score(x_valid,y_valid))"
   ]
  },
  {
   "cell_type": "code",
   "execution_count": 27,
   "metadata": {},
   "outputs": [],
   "source": [
    "def rmsle(y_true, y_pred):\n",
    "    return 'RMSLE', np.sqrt(np.mean(np.power(np.log1p(y_pred) - np.log1p(y_true), 2))), False"
   ]
  },
  {
   "cell_type": "code",
   "execution_count": 30,
   "metadata": {},
   "outputs": [
    {
     "name": "stdout",
     "output_type": "stream",
     "text": [
      "[1]\tvalid_0's l2: 9.35719e+06\tvalid_0's RMSLE: 0.428598\n",
      "Training until validation scores don't improve for 5 rounds.\n",
      "[2]\tvalid_0's l2: 9.11155e+06\tvalid_0's RMSLE: 0.423137\n",
      "[3]\tvalid_0's l2: 8.87948e+06\tvalid_0's RMSLE: 0.418024\n",
      "[4]\tvalid_0's l2: 8.66829e+06\tvalid_0's RMSLE: 0.413373\n",
      "[5]\tvalid_0's l2: 8.47542e+06\tvalid_0's RMSLE: 0.409027\n",
      "[6]\tvalid_0's l2: 8.29923e+06\tvalid_0's RMSLE: 0.405062\n",
      "[7]\tvalid_0's l2: 8.1386e+06\tvalid_0's RMSLE: 0.401442\n",
      "[8]\tvalid_0's l2: 7.99521e+06\tvalid_0's RMSLE: 0.398019\n",
      "[9]\tvalid_0's l2: 7.86131e+06\tvalid_0's RMSLE: 0.394941\n",
      "[10]\tvalid_0's l2: 7.73839e+06\tvalid_0's RMSLE: 0.392085\n",
      "[11]\tvalid_0's l2: 7.62139e+06\tvalid_0's RMSLE: 0.389248\n",
      "[12]\tvalid_0's l2: 7.50813e+06\tvalid_0's RMSLE: 0.386436\n",
      "[13]\tvalid_0's l2: 7.40611e+06\tvalid_0's RMSLE: 0.384001\n",
      "[14]\tvalid_0's l2: 7.30282e+06\tvalid_0's RMSLE: 0.381352\n",
      "[15]\tvalid_0's l2: 7.21457e+06\tvalid_0's RMSLE: 0.379006\n",
      "[16]\tvalid_0's l2: 7.14112e+06\tvalid_0's RMSLE: 0.377086\n",
      "[17]\tvalid_0's l2: 7.07052e+06\tvalid_0's RMSLE: 0.375319\n",
      "[18]\tvalid_0's l2: 6.98795e+06\tvalid_0's RMSLE: 0.373459\n",
      "[19]\tvalid_0's l2: 6.91954e+06\tvalid_0's RMSLE: 0.371577\n",
      "[20]\tvalid_0's l2: 6.8623e+06\tvalid_0's RMSLE: 0.369931\n",
      "Did not meet early stopping. Best iteration is:\n",
      "[20]\tvalid_0's l2: 6.8623e+06\tvalid_0's RMSLE: 0.369931\n",
      "LGBMRegressor(boosting_type='gbdt', class_weight=None, colsample_bytree=1.0,\n",
      "       importance_type='split', learning_rate=0.05, max_depth=-1,\n",
      "       min_child_samples=20, min_child_weight=0.001, min_split_gain=0.0,\n",
      "       n_estimators=20, n_jobs=-1, num_leaves=31, objective='regression',\n",
      "       random_state=None, reg_alpha=0.0, reg_lambda=0.0, silent=True,\n",
      "       subsample=1.0, subsample_for_bin=200000, subsample_freq=0)\n",
      "The rmsle of prediction is: 0.3699312265268001\n",
      "Best Iteration: 20\n"
     ]
    }
   ],
   "source": [
    "gbm.fit(x_train, y_train,\n",
    "        eval_set=[(x_valid, y_valid)],\n",
    "        eval_metric=rmsle,\n",
    "        early_stopping_rounds=5)\n",
    "y_pred = gbm.predict(x_valid, num_iteration=gbm.best_iteration_)\n",
    "print(gbm)\n",
    "print('The rmsle of prediction is:', rmsle(y_valid, y_pred)[1])\n",
    "print('Best Iteration:', num_iteration)"
   ]
  },
  {
   "cell_type": "code",
   "execution_count": 48,
   "metadata": {},
   "outputs": [
    {
     "name": "stdout",
     "output_type": "stream",
     "text": [
      "Best parameters found by grid search are: {'n_estimators': 201, 'learning_rate': 0.01}\n"
     ]
    }
   ],
   "source": [
    "estimator=lgb.LGBMRegressor(num_leaves=31)\n",
    "param_grid = {\n",
    "    'learning_rate': [0.01, 0.1, 1],\n",
    "    'n_estimators': [201, 2001, 200]\n",
    "}\n",
    "\n",
    "gbm = GridSearchCV(estimator, param_grid, cv=3)\n",
    "\n",
    "gbm.fit(x_train, y_train)\n",
    "\n",
    "print('Best parameters found by grid search are:', gbm.best_params_)"
   ]
  },
  {
   "cell_type": "code",
   "execution_count": null,
   "metadata": {},
   "outputs": [],
   "source": [
    "\n"
   ]
  },
  {
   "cell_type": "code",
   "execution_count": 49,
   "metadata": {},
   "outputs": [
    {
     "name": "stdout",
     "output_type": "stream",
     "text": [
      "Save model...\n",
      "The rmse of prediction is: 2442.633968474499\n",
      "Feature importances: [757, 465, 201, 0, 41, 228, 393, 1487, 294, 264, 5, 234, 450, 2, 124, 456, 337, 9, 283, 0]\n",
      "Mean Squared Error: 5966460.703945479\n",
      "R2 Error: 0.380665177104065\n",
      "Median Absolute Error: 1450.8252198924588\n",
      "Mean: 1808.7654282967064\n",
      "Variance(sigma2): 2694828.3293453436\n",
      "Sigma: 1641.5932289533066\n",
      "Training Score:0.380665\n",
      "Valid Score:0.380665\n"
     ]
    },
    {
     "data": {
      "image/png": "[encoded data removed]",
      "text/plain": [
       "<Figure size 1080x576 with 1 Axes>"
      ]
     },
     "metadata": {},
     "output_type": "display_data"
    },
    {
     "data": {
      "image/png": "[encoded data removed]",
      "text/plain": [
       "<Figure size 1080x576 with 1 Axes>"
      ]
     },
     "metadata": {},
     "output_type": "display_data"
    }
   ],
   "source": [
    "estimator=lgb.LGBMRegressor(objective='regression',num_leaves=31,learning_rate=0.01,n_estimators=201)\n",
    "estimator.fit(x_train,y_train)\n",
    "y_pred=estimator.predict(x_valid)\n",
    "\n",
    "print('Save model...') \n",
    " \n",
    "#estimator.save_model('model.txt')\n",
    "\n",
    "print('The rmse of prediction is:', mean_squared_error(y_valid,y_pred)**0.5)\n",
    "print('Feature importances:', list(estimator.feature_importances_))\n",
    "\n",
    "features=estimator.feature_importances_\n",
    "features_list=x_train.columns.values\n",
    "feature_importance = DataFrame(list(reversed(sorted(zip(features, features_list)))))\n",
    "fig,ax=plt.subplots(1,1,figsize=(15,8))\n",
    "sns.barplot(x=0,y=1,color=\"salmon\",data=feature_importance,edgecolor=\"black\")\n",
    "plt.xlabel(\"Relative Feature Importance\")\n",
    "plt.ylabel(\"Features\")\n",
    "plt.title(\"Feature Importance\")\n",
    "\n",
    "\n",
    "mse = mean_squared_error(y_valid, y_pred)\n",
    "r2 = r2_score(y_valid, y_pred)\n",
    "mae = median_absolute_error(y_valid, y_pred)\n",
    "\n",
    "# Calculate the mean absolute error for all `y_v`\n",
    "pred_dist = abs((y_valid)-(y_pred))\n",
    "\n",
    "# Get the statistics on `pred_dist`\n",
    "mean = np.mean(pred_dist)\n",
    "variance = np.var(pred_dist)\n",
    "sigma = np.sqrt(variance)\n",
    "print(\"Mean Squared Error:\", mse)\n",
    "print(\"R2 Error:\", r2)\n",
    "print(\"Median Absolute Error:\", mae)\n",
    "print(\"Mean:\", mean)\n",
    "print(\"Variance(sigma2):\", variance)\n",
    "print(\"Sigma:\", sigma)\n",
    "\n",
    "# Plot the distribution of the mean absolute error\n",
    "fig, ax = plt.subplots(1, 1, figsize=(15,8))\n",
    "plt.hist(pred_dist, bins=1000)\n",
    "plt.xlim([0,3000])\n",
    "plt.xlabel(\"Absolute Error\")\n",
    "plt.ylabel(\"Count\")\n",
    "plt.title(\"Distribution of the Absolute Error\")\n",
    "\n",
    "print(\"Training Score:%f\" % estimator.score(x_train,y_train))\n",
    "print('Valid Score:%f' % estimator.score(x_valid,y_valid))"
   ]
  },
  {
   "cell_type": "code",
   "execution_count": null,
   "metadata": {},
   "outputs": [],
   "source": []
  }
 ],
 "metadata": {
  "kernelspec": {
   "display_name": "Python 3",
   "language": "python",
   "name": "python3"
  },
  "language_info": {
   "codemirror_mode": {
    "name": "ipython",
    "version": 3
   },
   "file_extension": ".py",
   "mimetype": "text/x-python",
   "name": "python",
   "nbconvert_exporter": "python",
   "pygments_lexer": "ipython3",
   "version": "3.5.5"
  }
 },
 "nbformat": 4,
 "nbformat_minor": 2
}
